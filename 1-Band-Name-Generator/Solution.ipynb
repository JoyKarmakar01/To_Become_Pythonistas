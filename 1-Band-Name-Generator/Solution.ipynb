{
 "cells": [
  {
   "cell_type": "code",
   "execution_count": 1,
   "id": "b3dffe8f",
   "metadata": {},
   "outputs": [],
   "source": [
    "import json\n",
    "import random"
   ]
  },
  {
   "cell_type": "code",
   "execution_count": 2,
   "id": "e1fc96fd",
   "metadata": {},
   "outputs": [],
   "source": [
    "animals = json.load(open(\"animals.txt\"))\n",
    "adjectives = json.load(open(\"adjectives.txt\"))"
   ]
  },
  {
   "cell_type": "code",
   "execution_count": 3,
   "id": "371eae3e",
   "metadata": {},
   "outputs": [
    {
     "data": {
      "text/plain": [
       "(386, 4842)"
      ]
     },
     "execution_count": 3,
     "metadata": {},
     "output_type": "execute_result"
    }
   ],
   "source": [
    "length_animals = len(animals)\n",
    "length_adj = len(adjectives)\n",
    "length_animals, length_adj"
   ]
  },
  {
   "cell_type": "code",
   "execution_count": 4,
   "id": "af128762",
   "metadata": {},
   "outputs": [
    {
     "name": "stdout",
     "output_type": "stream",
     "text": [
      "The random Generation Animal position =  121\n",
      "The random Generation Adjectives position =  3749\n",
      "The Asses Startled\n"
     ]
    }
   ],
   "source": [
    "p1 = random.randint(1,len(animals))\n",
    "a = animals[p1]\n",
    "print(\"The random Generation Animal position = \",p1)\n",
    "p2 = random.randint(1,len(adjectives))\n",
    "b = adjectives[p2]\n",
    "print(\"The random Generation Adjectives position = \", p2)\n",
    "print(\"The \"+a+\" \"+b)"
   ]
  },
  {
   "cell_type": "code",
   "execution_count": 5,
   "id": "5e7fe9a8",
   "metadata": {},
   "outputs": [
    {
     "name": "stdout",
     "output_type": "stream",
     "text": [
      "121\n",
      "3749\n"
     ]
    }
   ],
   "source": [
    "pos = -1\n",
    "for i in animals:\n",
    "    pos +=1\n",
    "    if (i == a):\n",
    "        print(pos)\n",
    "pos = -1        \n",
    "for i in adjectives:\n",
    "    pos +=1\n",
    "    if (i == b):\n",
    "        print(pos)\n",
    "        \n",
    "        "
   ]
  }
 ],
 "metadata": {
  "kernelspec": {
   "display_name": "Python 3 (ipykernel)",
   "language": "python",
   "name": "python3"
  },
  "language_info": {
   "codemirror_mode": {
    "name": "ipython",
    "version": 3
   },
   "file_extension": ".py",
   "mimetype": "text/x-python",
   "name": "python",
   "nbconvert_exporter": "python",
   "pygments_lexer": "ipython3",
   "version": "3.9.12"
  }
 },
 "nbformat": 4,
 "nbformat_minor": 5
}
